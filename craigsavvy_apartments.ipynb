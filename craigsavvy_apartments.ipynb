{
 "cells": [
  {
   "cell_type": "code",
   "execution_count": 7,
   "metadata": {},
   "outputs": [
    {
     "name": "stdout",
     "output_type": "stream",
     "text": [
      "<class 'bs4.element.ResultSet'>\n",
      "120\n"
     ]
    }
   ],
   "source": [
    "#import get to call a get request on the site\n",
    "from requests import get\n",
    "\n",
    "#get the first page of the housing prices\n",
    "response = get('https://minneapolis.craigslist.org/search/apa?hasPic=1&availabilityMode=0') #get rid of those lame-o's that post a housing option without a pic using their filter\n",
    "\n",
    "from bs4 import BeautifulSoup\n",
    "html_soup = BeautifulSoup(response.text, 'html.parser')\n",
    "\n",
    "#get the macro-container for the housing posts\n",
    "posts = html_soup.find_all('li', class_= 'result-row')\n",
    "print(type(posts)) #to double check that I got a ResultSet\n",
    "print( len(posts)) #to double check I got 120 (elements/page)"
   ]
  },
  {
   "cell_type": "code",
   "execution_count": 17,
   "metadata": {},
   "outputs": [
    {
     "name": "stdout",
     "output_type": "stream",
     "text": [
      "First post: $1601\n",
      "\n",
      "\n",
      "\n",
      "favorite this post\n",
      "\n",
      "May 27\n",
      "On bus route, Underground heated parking, Balcony\n",
      "\n",
      "$1601\n",
      "\n",
      "                    2br -\n",
      "                    1275ft2 -\n",
      "                \n",
      "\n",
      "pic\n",
      "\n",
      "\n",
      "hide this posting\n",
      "\n",
      "\n",
      "\n",
      "restore\n",
      "restore this posting\n"
     ]
    }
   ],
   "source": [
    "print(\"First post: \" + posts[0].text.strip())"
   ]
  },
  {
   "cell_type": "code",
   "execution_count": 26,
   "metadata": {},
   "outputs": [
    {
     "name": "stdout",
     "output_type": "stream",
     "text": [
      "2020-05-27 19:59\n",
      "https://minneapolis.craigslist.org/hnp/apa/d/minneapolis-on-bus-route-underground/7128042130.html\n"
     ]
    }
   ],
   "source": [
    "curtime = posts[0].find('time',class_='result-date')['datetime']\n",
    "print(curtime)\n",
    "cururl = posts[0].find('a',class_='result-title hdrlnk')['href']\n",
    "print(cururl)"
   ]
  },
  {
   "cell_type": "code",
   "execution_count": null,
   "metadata": {},
   "outputs": [],
   "source": []
  }
 ],
 "metadata": {
  "kernelspec": {
   "display_name": "Python 3",
   "language": "python",
   "name": "python3"
  },
  "language_info": {
   "codemirror_mode": {
    "name": "ipython",
    "version": 3
   },
   "file_extension": ".py",
   "mimetype": "text/x-python",
   "name": "python",
   "nbconvert_exporter": "python",
   "pygments_lexer": "ipython3",
   "version": "3.7.7"
  }
 },
 "nbformat": 4,
 "nbformat_minor": 4
}
